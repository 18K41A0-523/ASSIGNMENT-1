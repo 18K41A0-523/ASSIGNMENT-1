{
  "nbformat": 4,
  "nbformat_minor": 0,
  "metadata": {
    "colab": {
      "name": "Assignment-1",
      "provenance": [],
      "authorship_tag": "ABX9TyMHIaPt132Fv7djzpLeSXh+",
      "include_colab_link": true
    },
    "kernelspec": {
      "name": "python3",
      "display_name": "Python 3"
    }
  },
  "cells": [
    {
      "cell_type": "markdown",
      "metadata": {
        "id": "view-in-github",
        "colab_type": "text"
      },
      "source": [
        "<a href=\"https://colab.research.google.com/github/18K41A0-523/ASSIGNMENT-1/blob/master/Assignment_1.ipynb\" target=\"_parent\"><img src=\"https://colab.research.google.com/assets/colab-badge.svg\" alt=\"Open In Colab\"/></a>"
      ]
    },
    {
      "cell_type": "markdown",
      "metadata": {
        "id": "dgSRIedHyy1i",
        "colab_type": "text"
      },
      "source": [
        "\n",
        "\n",
        "1.\tDevelop a code for below scenario\n",
        " \n",
        "\n",
        "\n",
        "\n",
        "\n",
        "\n"
      ]
    },
    {
      "cell_type": "code",
      "metadata": {
        "id": "q7dUbocbj72n",
        "colab_type": "code",
        "colab": {
          "base_uri": "https://localhost:8080/",
          "height": 51
        },
        "outputId": "0e0a4426-69e3-4419-8199-d9769c214a22"
      },
      "source": [
        "year=int(input())\n",
        "if year%12==0:\n",
        "  print(\"monkey\")\n",
        "elif year%12==1:\n",
        "  print(\"Rooster\")\n",
        "elif year%12==2:\n",
        "  print(\"Dog\")  \n",
        "elif year%12==3:\n",
        "  print(\"Pig\")  \n",
        "elif year%12==4:\n",
        "  print(\"rat\")  \n",
        "elif year%12==5:\n",
        "  print(\"ox\")  \n",
        "elif year%12==6:\n",
        "  print(\"tiger\")  \n",
        "elif year%12==7:\n",
        "  print(\"rabbit\")  \n",
        "elif year%12==8:\n",
        "  print(\"dragon\")  \n",
        "elif year%12==9:\n",
        "  print(\"snake\")  \n",
        "elif year%12==10:\n",
        "  print(\"horse\")  \n",
        "else:\n",
        "  print(\"sheep\")"
      ],
      "execution_count": 1,
      "outputs": [
        {
          "output_type": "stream",
          "text": [
            "2012\n",
            "dragon\n"
          ],
          "name": "stdout"
        }
      ]
    },
    {
      "cell_type": "markdown",
      "metadata": {
        "id": "sddeHwZxzp1R",
        "colab_type": "text"
      },
      "source": [
        "\n",
        "2.\tA Quick Fox Transport Co. wants to develop an application for calculating amount based on distance and weight of goods. The charges (Amount) to be calculated as per rates given below. \n",
        " \n",
        "Input:  Distance to be travel: 520     \n",
        "Weight of the goods: 50 \n",
        "Output: Amount to be charged: 3120 /-\n"
      ]
    },
    {
      "cell_type": "code",
      "metadata": {
        "id": "c9eWRUxCk9vX",
        "colab_type": "code",
        "colab": {
          "base_uri": "https://localhost:8080/",
          "height": 68
        },
        "outputId": "3ddb92e2-e1cb-4d80-d036-05a44f878756"
      },
      "source": [
        "print(\"enter distance to be travelled\",end=\" \")\n",
        "d=int(input())\n",
        "print(\"enter weight of goods\",end=\" \")\n",
        "w=int(input())\n",
        "if(d>=500):\n",
        "    if(w>=100):\n",
        "        c=5\n",
        "    elif(w>=10 and w<100):\n",
        "        c=6\n",
        "    else:\n",
        "        c=7\n",
        "else:\n",
        "    if(w>=100):\n",
        "        c=8\n",
        "    else:\n",
        "        c=5\n",
        "print(f'amount to be charged : {d*c}')"
      ],
      "execution_count": null,
      "outputs": [
        {
          "output_type": "stream",
          "text": [
            "enter distance to be travelled 520\n",
            "enter weight of goods 50\n",
            "amount to be charged : 3120\n"
          ],
          "name": "stdout"
        }
      ]
    },
    {
      "cell_type": "markdown",
      "metadata": {
        "id": "wuag-8QCz5Zo",
        "colab_type": "text"
      },
      "source": [
        "\n",
        "3.\tThe Entertainment Paradise\n",
        "\n",
        " A theater in Delhi wants to develop a computerized Booking System. The theater offers different types of seats. The Ticket rates are- Stalls- Rs. 625/-, Circle- Rs.750/-, Upper Class- Rs.850/- and Box- Rs.1000/-. A discount is given 10% of total amount if tickets are purchased on Cash. In case of credit card holders 5% discount is given. \n",
        "Input: \tType of Seat: Circle    \n",
        "Payment mode: cash\n",
        "Output: Cost of ticket: 675\n"
      ]
    },
    {
      "cell_type": "code",
      "metadata": {
        "id": "ta9zRGB2lt2l",
        "colab_type": "code",
        "colab": {
          "base_uri": "https://localhost:8080/",
          "height": 85
        },
        "outputId": "e0087069-caef-4963-8e43-d8c9d479776b"
      },
      "source": [
        "a=[\"Stalls\",\"Circle\",\"UpperClass\",\"box\"]\n",
        "s=input(\"Type of seat:\")\n",
        "pm=input(\"Payment mode:\")\n",
        "c=\"cash\"\n",
        "if pm==c:\n",
        "  if s in a[0]:\n",
        "    discount=625*(0.1)\n",
        "    b=625-discount\n",
        "  elif s in a[1]:\n",
        "    discount=750*(0.1)\n",
        "    b=750-discount\n",
        "  elif s in a[2]:\n",
        "    discount=850*(0.1)\n",
        "    b=850-discount\n",
        "  else:\n",
        "    discount=1000*(0.1)\n",
        "    b=1000-discount\n",
        "else:\n",
        "  if s in a[0]:\n",
        "    discount=625*(0.05)\n",
        "    b=625-discount\n",
        "  elif s in a[1]:\n",
        "    discount=750*(0.05)\n",
        "    b=750-discount\n",
        "  elif s in a[2]:\n",
        "    discount=850*(0.05)\n",
        "    b=850-discout\n",
        "  else:\n",
        "    discount=1000*(0.05)\n",
        "    b=1000-discount\n",
        "print('total cost:')\n",
        "print(int(b))\n"
      ],
      "execution_count": null,
      "outputs": [
        {
          "output_type": "stream",
          "text": [
            "Type of seat:Circle\n",
            "Payment mode:cash\n",
            "total cost:\n",
            "675\n"
          ],
          "name": "stdout"
        }
      ]
    },
    {
      "cell_type": "markdown",
      "metadata": {
        "id": "mQ_Th70B0BNQ",
        "colab_type": "text"
      },
      "source": [
        "4.\tDevelop a program that calculates the energy needed to heat water from an initial temperature to a final temperature. Your program should prompt the user to enter the amount of water in kilograms and the initial and final temperatures of the water. The formula to compute the energy is \n",
        "Q = M * (finalTemperature – initialTemperature) * 4184.\n",
        "where M is the weight of water in kilograms, temperatures are in degrees Celsius,  and energy Q is measured in joules. (L6)\n"
      ]
    },
    {
      "cell_type": "code",
      "metadata": {
        "id": "j3TeSHpvozvs",
        "colab_type": "code",
        "colab": {
          "base_uri": "https://localhost:8080/",
          "height": 51
        },
        "outputId": "f95f1792-1102-45a7-d8e7-3fbede44e986"
      },
      "source": [
        "M=int(input(\"Enter Amount of water:\"))\n",
        "Q=M*(100-0)*4184\n",
        "print(Q)\n"
      ],
      "execution_count": null,
      "outputs": [
        {
          "output_type": "stream",
          "text": [
            "Enter Amount of water:12\n",
            "5020800\n"
          ],
          "name": "stdout"
        }
      ]
    },
    {
      "cell_type": "markdown",
      "metadata": {
        "id": "-SOGb6Lt0Hlf",
        "colab_type": "text"
      },
      "source": [
        "5.\tDevelop a program that prompts user to enter month and  print \n",
        "a.\t“Winter ” -   December ,January and February\n",
        "b.\t“Spring”  -   March ,April and May\n",
        "c.\t“Summer”  --- June ,July, August\n",
        "d.\t“Autumn ”  -- September ,October, November\n"
      ]
    },
    {
      "cell_type": "code",
      "metadata": {
        "id": "xi6-5R-3q8qP",
        "colab_type": "code",
        "colab": {
          "base_uri": "https://localhost:8080/",
          "height": 51
        },
        "outputId": "1041bf47-cbd1-4e75-e58d-cecfea534a8e"
      },
      "source": [
        "month=input(\"Enter the month:\")\n",
        "winter=[\"December\",\"January\",\"February\"]\n",
        "spring=[\"March\",\"April\",\"May\"]\n",
        "summer=[\"June\",\"July\",\"August\"]\n",
        "autum=[\"September\",\"October\",\"november\"]\n",
        "if month in winter:\n",
        "  print(\"Winter\")\n",
        "if month in spring:\n",
        "  print(\"Spring\")\n",
        "elif month in summer:\n",
        "  print(\"Summer\")\n",
        "elif month in autum:\n",
        "  print(\"Autumn\")\n"
      ],
      "execution_count": null,
      "outputs": [
        {
          "output_type": "stream",
          "text": [
            "Enter the month:December\n",
            "Winter\n"
          ],
          "name": "stdout"
        }
      ]
    },
    {
      "cell_type": "markdown",
      "metadata": {
        "id": "MG4iWurA0SHB",
        "colab_type": "text"
      },
      "source": [
        "6.\tBody Mass Index\n",
        " "
      ]
    },
    {
      "cell_type": "code",
      "metadata": {
        "id": "PQdPdoQjrqLj",
        "colab_type": "code",
        "colab": {
          "base_uri": "https://localhost:8080/",
          "height": 85
        },
        "outputId": "67be4ce8-706c-445d-c35f-b9734afc98dc"
      },
      "source": [
        "weight=float(input(\"Enter the weight:\"))\n",
        "height=float(input(\"Enter the height:\"))\n",
        "s=weight/(height**2)\n",
        "if s<18.5:\n",
        "  print(\"Underweight\")\n",
        "elif s>=18.5 and s<25.0:\n",
        "  print(\"normal\")\n",
        "elif s>=25.0 and s<30.0:\n",
        "  print(\"Overweight\")\n",
        "else:\n",
        "  print(\"Obese\") \n",
        "print(\"BMI is:\",s)\n"
      ],
      "execution_count": null,
      "outputs": [
        {
          "output_type": "stream",
          "text": [
            "Enter the weight:30\n",
            "Enter the height:30\n",
            "Underweight\n",
            "BMI is: 0.03333333333333333\n"
          ],
          "name": "stdout"
        }
      ]
    },
    {
      "cell_type": "markdown",
      "metadata": {
        "id": "v767f8J50eGJ",
        "colab_type": "text"
      },
      "source": [
        "7.\tWrite a program that reads an integer between 100 and 1000 and adds all the digits in the integer \t(\tex: input 745 \t# output =16\t(7+4+5)\t)"
      ]
    },
    {
      "cell_type": "code",
      "metadata": {
        "id": "uPa6yCEisP2q",
        "colab_type": "code",
        "colab": {
          "base_uri": "https://localhost:8080/",
          "height": 51
        },
        "outputId": "8f7b50ed-edba-475f-8270-66ee8f9c711c"
      },
      "source": [
        "number=int(input(\"Enter number between 100 and 1000:\"))\n",
        "remainder=0\n",
        "sumdigit=0\n",
        "if(number>=100 and number<=1000):\n",
        "    while number > 0:\n",
        "      remainder=number%10\n",
        "      sumdigit=sumdigit+remainder\n",
        "      number=number//10\n",
        "print(sumdigit)\n",
        "\n"
      ],
      "execution_count": null,
      "outputs": [
        {
          "output_type": "stream",
          "text": [
            "Enter number between 100 and 1000:745\n",
            "16\n"
          ],
          "name": "stdout"
        }
      ]
    },
    {
      "cell_type": "markdown",
      "metadata": {
        "id": "C8GannDN0j4c",
        "colab_type": "text"
      },
      "source": [
        "8.\tPrint all palindrome numbers between 1 to 1000."
      ]
    },
    {
      "cell_type": "code",
      "metadata": {
        "id": "mpnpJmv5tD7E",
        "colab_type": "code",
        "colab": {
          "base_uri": "https://localhost:8080/",
          "height": 54
        },
        "outputId": "e41e1d3e-f8ca-475f-8ba7-c3351c7b6c20"
      },
      "source": [
        "for number in range(1,1001):\n",
        "  temp=number\n",
        "  rev=0\n",
        "  if(number>=100 and number<=1000):\n",
        "    while temp > 0:\n",
        "      rem=temp%10\n",
        "      rev=(rev*10)+rem\n",
        "      temp=temp//10\n",
        "    if number==rev:  \n",
        "      print(number ,end=\" \")\n"
      ],
      "execution_count": null,
      "outputs": [
        {
          "output_type": "stream",
          "text": [
            "101 111 121 131 141 151 161 171 181 191 202 212 222 232 242 252 262 272 282 292 303 313 323 333 343 353 363 373 383 393 404 414 424 434 444 454 464 474 484 494 505 515 525 535 545 555 565 575 585 595 606 616 626 636 646 656 666 676 686 696 707 717 727 737 747 757 767 777 787 797 808 818 828 838 848 858 868 878 888 898 909 919 929 939 949 959 969 979 989 999 "
          ],
          "name": "stdout"
        }
      ]
    },
    {
      "cell_type": "markdown",
      "metadata": {
        "id": "UqQlhBfZ0rDx",
        "colab_type": "text"
      },
      "source": [
        "9.\tPrint all Armstrong numbers between 1 to 1000. "
      ]
    },
    {
      "cell_type": "code",
      "metadata": {
        "id": "CHEYBqQntKSV",
        "colab_type": "code",
        "colab": {
          "base_uri": "https://localhost:8080/",
          "height": 34
        },
        "outputId": "27623aa0-ddf4-4383-8a93-9bdad1a8a97d"
      },
      "source": [
        "for number in range(1,1001):\n",
        "  sum=0\n",
        "  temp=number\n",
        "  while temp > 0 :\n",
        "    digit=temp%10\n",
        "    sum+=digit**3\n",
        "    temp//=10\n",
        "    if number==sum:\n",
        "        print(number ,end=\" \")"
      ],
      "execution_count": null,
      "outputs": [
        {
          "output_type": "stream",
          "text": [
            "1 64 125 153 216 370 371 407 729 "
          ],
          "name": "stdout"
        }
      ]
    },
    {
      "cell_type": "markdown",
      "metadata": {
        "id": "bIus7fNf0wKa",
        "colab_type": "text"
      },
      "source": [
        "10.\tWrite a Java program which iterates the integers from 1 to 100. For multiples of three print \"Fizz\" instead of the number and print \"Buzz\" for the multiples of five. When number is divided by both three and five, print \"fizz buzz\"."
      ]
    },
    {
      "cell_type": "code",
      "metadata": {
        "id": "YYFoq3D9u0vo",
        "colab_type": "code",
        "colab": {
          "base_uri": "https://localhost:8080/",
          "height": 1000
        },
        "outputId": "39065545-a743-42eb-c820-9d665ed47aae"
      },
      "source": [
        "for i in range(1,101):\n",
        "  if i%3==0 and i%5==0:\n",
        "    print(\"Fizz buzz\")\n",
        "  elif i%5==0:\n",
        "    print(\"buzz\")\n",
        "  elif i%3==0:\n",
        "    print(\"fizz\")\n",
        "  else:\n",
        "    print(i)\n"
      ],
      "execution_count": null,
      "outputs": [
        {
          "output_type": "stream",
          "text": [
            "1\n",
            "2\n",
            "fizz\n",
            "4\n",
            "buzz\n",
            "fizz\n",
            "7\n",
            "8\n",
            "fizz\n",
            "buzz\n",
            "11\n",
            "fizz\n",
            "13\n",
            "14\n",
            "Fizz buzz\n",
            "16\n",
            "17\n",
            "fizz\n",
            "19\n",
            "buzz\n",
            "fizz\n",
            "22\n",
            "23\n",
            "fizz\n",
            "buzz\n",
            "26\n",
            "fizz\n",
            "28\n",
            "29\n",
            "Fizz buzz\n",
            "31\n",
            "32\n",
            "fizz\n",
            "34\n",
            "buzz\n",
            "fizz\n",
            "37\n",
            "38\n",
            "fizz\n",
            "buzz\n",
            "41\n",
            "fizz\n",
            "43\n",
            "44\n",
            "Fizz buzz\n",
            "46\n",
            "47\n",
            "fizz\n",
            "49\n",
            "buzz\n",
            "fizz\n",
            "52\n",
            "53\n",
            "fizz\n",
            "buzz\n",
            "56\n",
            "fizz\n",
            "58\n",
            "59\n",
            "Fizz buzz\n",
            "61\n",
            "62\n",
            "fizz\n",
            "64\n",
            "buzz\n",
            "fizz\n",
            "67\n",
            "68\n",
            "fizz\n",
            "buzz\n",
            "71\n",
            "fizz\n",
            "73\n",
            "74\n",
            "Fizz buzz\n",
            "76\n",
            "77\n",
            "fizz\n",
            "79\n",
            "buzz\n",
            "fizz\n",
            "82\n",
            "83\n",
            "fizz\n",
            "buzz\n",
            "86\n",
            "fizz\n",
            "88\n",
            "89\n",
            "Fizz buzz\n",
            "91\n",
            "92\n",
            "fizz\n",
            "94\n",
            "buzz\n",
            "fizz\n",
            "97\n",
            "98\n",
            "fizz\n",
            "buzz\n"
          ],
          "name": "stdout"
        }
      ]
    },
    {
      "cell_type": "markdown",
      "metadata": {
        "id": "M9POLNkm013i",
        "colab_type": "text"
      },
      "source": [
        "11.\tSpider Problem: A spider present at the bottom of the well of height H, needs to get out of it, using the slippery wall of the well. It decides to climb up the well; it goes up U meters and slips down D meters in one single step. So, in each step it covers (U-D) meters, and if the spider gets out of the well by covering U meters in the last step it doesn’t a slip back. For example, if the spider climbs up 5 meters and slips down by 3 meters in a single step, it covers (U - D) m in each step and 96 m in 48 steps, but in the 49th step it climbs up 5 m and reaches out of the well and it will not slip down and the step is counted as one step.     \n",
        "Input: Each test case will contain 3 integers ’H’ height of the well, next ’U’ meters climbs up in each step, and the last ’D’ meters slips down in each step.\n",
        "Output:  The number of steps 'N' required to get out of the well.\n",
        "Example 1:\n",
        " \tInput:\t\t\t\t\t\tOuput \n",
        "\t200 50 1\t\t\t\t\t    5\n",
        "\tExample 2:\n",
        " \tInput:\t\t\t\t\t\tOutput\n",
        "\t500 20 15\t\t\t\t\t   98\n",
        "\n"
      ]
    },
    {
      "cell_type": "code",
      "metadata": {
        "id": "xPXOfwcpvMia",
        "colab_type": "code",
        "colab": {
          "base_uri": "https://localhost:8080/",
          "height": 85
        },
        "outputId": "3b18f5b0-c717-4992-b058-08be0c6e48a3"
      },
      "source": [
        "H=int(input(\"H:\"))\n",
        "U=int(input(\"U:\"))\n",
        "D=int(input(\"D:\"))\n",
        "N=0\n",
        "while (U-D)*N <=(H-U):\n",
        "    N=N+1\n",
        "print(N+1)\n"
      ],
      "execution_count": null,
      "outputs": [
        {
          "output_type": "stream",
          "text": [
            "H:200\n",
            "U:50\n",
            "D:1\n",
            "5\n"
          ],
          "name": "stdout"
        }
      ]
    }
  ]
}